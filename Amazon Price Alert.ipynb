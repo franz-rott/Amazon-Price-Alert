{
 "cells": [
  {
   "cell_type": "code",
   "execution_count": 1,
   "id": "de3f2290",
   "metadata": {},
   "outputs": [],
   "source": [
    "# import libraries \n",
    "\n",
    "from bs4 import BeautifulSoup\n",
    "import requests\n",
    "import time\n",
    "import datetime\n",
    "\n",
    "import smtplib"
   ]
  },
  {
   "cell_type": "code",
   "execution_count": 2,
   "id": "d013b179",
   "metadata": {},
   "outputs": [
    {
     "name": "stdout",
     "output_type": "stream",
     "text": [
      "Title: Retreez Funny Mug - Give Me All The Data Data Science Scientist Analyst Computer Accounting 11 Oz Ceramic Coffee Mugs - Funny Sarcasm Inspirational birthday gifts for friend coworker colleague him her\n",
      "Price: 15.55$\n"
     ]
    }
   ],
   "source": [
    "URL = 'https://www.amazon.com/dp/B0BHCLWWMF/ref=sr_1_3?__mk_de_DE=%C3%85M%C3%85%C5%BD%C3%95%C3%91&crid=319FTOYODP3PP&keywords=data%2Btasse&qid=1700593521&sprefix=data%2Btass%2Caps%2C196&sr=8-3&th=1&language=en_US&currency=USD'\n",
    "headers = {\n",
    "    \"User-Agent\": \"Mozilla/5.0 (Windows NT 10.0; Win64; x64) AppleWebKit/537.36 (KHTML, like Gecko) Chrome/119.0.0.0 Safari/537.36\",\n",
    "    \"Accept-Encoding\": \"gzip, deflate\",\n",
    "    \"Accept\": \"text/html,application/xhtml+xml,application/xml;q=0.9,*/*;q=0.8\",\n",
    "    \"DNT\": \"1\",\n",
    "    \"Connection\": \"close\",\n",
    "    \"Upgrade-Insecure-Requests\": \"1\"\n",
    "}\n",
    "\n",
    "page = requests.get(URL, headers=headers)\n",
    "\n",
    "if page.status_code == 200:\n",
    "    soup1 = BeautifulSoup(page.content, \"html.parser\")\n",
    "    soup2 = BeautifulSoup(soup1.prettify(), \"html.parser\")\n",
    "    \n",
    "    # Extract title\n",
    "    title_element = soup2.find(id='productTitle')\n",
    "    if title_element is not None:\n",
    "        title = title_element.get_text(strip=True)\n",
    "        print(\"Title:\", title)\n",
    "    else:\n",
    "        print(\"Title element not found.\")\n",
    "    \n",
    "    # Extract price\n",
    "    price_element1 = soup2.find(class_='a-price-whole')\n",
    "    price_element2 = soup2.find(class_='a-price-fraction')\n",
    "    if price_element1 is not None and price_element2 is not None:\n",
    "        price_whole = price_element1.get_text(strip=True)\n",
    "        price_frac = price_element2.get_text(strip=True)\n",
    "        price = float(price_whole + price_frac)\n",
    "        print(\"Price: \" + price_whole + price_frac + \"$\")\n",
    "    else:\n",
    "        print(\"Price element not found.\")\n",
    "else:\n",
    "    print(\"Failed to retrieve the page. Status code:\", page.status_code)\n"
   ]
  },
  {
   "cell_type": "code",
   "execution_count": 3,
   "id": "e9ef2045",
   "metadata": {},
   "outputs": [
    {
     "name": "stdout",
     "output_type": "stream",
     "text": [
      "2023-11-21\n"
     ]
    }
   ],
   "source": [
    "# Create a Timestamp for your output to track when data was collected\n",
    "\n",
    "import datetime\n",
    "\n",
    "today = datetime.date.today()\n",
    "\n",
    "print(today)"
   ]
  },
  {
   "cell_type": "code",
   "execution_count": 4,
   "id": "39c0d1c2",
   "metadata": {},
   "outputs": [],
   "source": [
    "import csv \n",
    "\n",
    "header = ['Title', 'Price', 'Date']\n",
    "data = [title, price, today]\n",
    "\n",
    "\n",
    "with open('AmazonWebScraperDataset.csv', 'w', newline='', encoding='UTF8') as f:\n",
    "    writer = csv.writer(f)\n",
    "    writer.writerow(header)\n",
    "    writer.writerow(data)"
   ]
  },
  {
   "cell_type": "code",
   "execution_count": 5,
   "id": "cfe0a3d8",
   "metadata": {},
   "outputs": [
    {
     "name": "stdout",
     "output_type": "stream",
     "text": [
      "                                               Title  Price        Date\n",
      "0  Retreez Funny Mug - Give Me All The Data Data ...  15.55  2023-11-21\n"
     ]
    }
   ],
   "source": [
    "import pandas as pd\n",
    "\n",
    "df = pd.read_csv(r'C:\\Users\\uulm\\Desktop\\Projects\\Python\\AmazonWebScraperDataset.csv')\n",
    "\n",
    "print(df)"
   ]
  },
  {
   "cell_type": "code",
   "execution_count": 6,
   "id": "8173d8ac",
   "metadata": {},
   "outputs": [],
   "source": [
    "# put everything in a function\n",
    "def check_price():\n",
    "    URL = 'https://www.amazon.com/dp/B0BHCLWWMF/ref=sr_1_3?__mk_de_DE=%C3%85M%C3%85%C5%BD%C3%95%C3%91&crid=319FTOYODP3PP&keywords=data%2Btasse&qid=1700593521&sprefix=data%2Btass%2Caps%2C196&sr=8-3&th=1&language=en_US&currency=USD'\n",
    "    headers = {\n",
    "    \"User-Agent\": \"Mozilla/5.0 (Windows NT 10.0; Win64; x64) AppleWebKit/537.36 (KHTML, like Gecko) Chrome/119.0.0.0 Safari/537.36\",\n",
    "    \"Accept-Encoding\": \"gzip, deflate\",\n",
    "    \"Accept\": \"text/html,application/xhtml+xml,application/xml;q=0.9,*/*;q=0.8\",\n",
    "    \"DNT\": \"1\",\n",
    "    \"Connection\": \"close\",\n",
    "    \"Upgrade-Insecure-Requests\": \"1\"\n",
    "}\n",
    "\n",
    "    page = requests.get(URL, headers=headers)\n",
    "\n",
    "    if page.status_code == 200:\n",
    "        soup1 = BeautifulSoup(page.content, \"html.parser\")\n",
    "        soup2 = BeautifulSoup(soup1.prettify(), \"html.parser\")\n",
    "    \n",
    "    # Extract title\n",
    "        title_element = soup2.find(id='productTitle')\n",
    "        if title_element is not None:\n",
    "            title = title_element.get_text(strip=True)\n",
    "        else:\n",
    "            print(\"Title element not found.\")\n",
    "    \n",
    "    # Extract price\n",
    "        price_element1 = soup2.find(class_='a-price-whole')\n",
    "        price_element2 = soup2.find(class_='a-price-fraction')\n",
    "        if price_element1 is not None and price_element2 is not None:\n",
    "            price_whole = price_element1.get_text(strip=True)\n",
    "            price_frac = price_element2.get_text(strip=True)\n",
    "            price = float(price_whole + price_frac)\n",
    "        else:\n",
    "            print(\"Price element not found.\")\n",
    "    else:\n",
    "        print(\"Failed to retrieve the page. Status code:\", page.status_code)\n",
    "        \n",
    "    import datetime\n",
    "\n",
    "    today = datetime.date.today()\n",
    "    \n",
    "    import csv \n",
    "\n",
    "    header = ['Title', 'Price', 'Date']\n",
    "    data = [title, price, today]\n",
    "\n",
    "    with open('AmazonWebScraperDataset.csv', 'a+', newline='', encoding='UTF8') as f:\n",
    "        writer = csv.writer(f)\n",
    "        writer.writerow(data)\n",
    "        \n",
    "    if price < 15:\n",
    "        send_mail()"
   ]
  },
  {
   "cell_type": "code",
   "execution_count": 11,
   "id": "e013e1df",
   "metadata": {},
   "outputs": [
    {
     "ename": "KeyboardInterrupt",
     "evalue": "",
     "output_type": "error",
     "traceback": [
      "\u001b[1;31m---------------------------------------------------------------------------\u001b[0m",
      "\u001b[1;31mKeyboardInterrupt\u001b[0m                         Traceback (most recent call last)",
      "Cell \u001b[1;32mIn[11], line 4\u001b[0m\n\u001b[0;32m      2\u001b[0m \u001b[38;5;28;01mwhile\u001b[39;00m(\u001b[38;5;28;01mTrue\u001b[39;00m):\n\u001b[0;32m      3\u001b[0m     check_price()\n\u001b[1;32m----> 4\u001b[0m     time\u001b[38;5;241m.\u001b[39msleep(\u001b[38;5;241m5\u001b[39m)\n",
      "\u001b[1;31mKeyboardInterrupt\u001b[0m: "
     ]
    }
   ],
   "source": [
    "# Runs check_price after a set time and inputs data into your CSV\n",
    "while(True):\n",
    "    check_price()\n",
    "    time.sleep(5)"
   ]
  },
  {
   "cell_type": "code",
   "execution_count": 12,
   "id": "eaf9df35",
   "metadata": {},
   "outputs": [
    {
     "name": "stdout",
     "output_type": "stream",
     "text": [
      "                                                Title  Price        Date\n",
      "0   Retreez Funny Mug - Give Me All The Data Data ...  15.55  2023-11-21\n",
      "1   Retreez Funny Mug - Give Me All The Data Data ...  15.55  2023-11-21\n",
      "2   Retreez Funny Mug - Give Me All The Data Data ...  15.55  2023-11-21\n",
      "3   Retreez Funny Mug - Give Me All The Data Data ...  15.55  2023-11-21\n",
      "4   Retreez Funny Mug - Give Me All The Data Data ...  15.55  2023-11-21\n",
      "5   Retreez Funny Mug - Give Me All The Data Data ...  15.55  2023-11-21\n",
      "6   Retreez Funny Mug - Give Me All The Data Data ...  15.55  2023-11-21\n",
      "7   Retreez Funny Mug - Give Me All The Data Data ...  15.55  2023-11-21\n",
      "8   Retreez Funny Mug - Give Me All The Data Data ...  15.55  2023-11-21\n",
      "9   Retreez Funny Mug - Give Me All The Data Data ...  15.55  2023-11-21\n",
      "10  Retreez Funny Mug - Give Me All The Data Data ...  15.55  2023-11-21\n",
      "11  Retreez Funny Mug - Give Me All The Data Data ...  15.55  2023-11-21\n",
      "12  Retreez Funny Mug - Give Me All The Data Data ...  15.55  2023-11-21\n",
      "13  Retreez Funny Mug - Give Me All The Data Data ...  15.55  2023-11-21\n",
      "14  Retreez Funny Mug - Give Me All The Data Data ...  15.55  2023-11-21\n",
      "15  Retreez Funny Mug - Give Me All The Data Data ...  15.55  2023-11-21\n",
      "16  Retreez Funny Mug - Give Me All The Data Data ...  15.55  2023-11-21\n",
      "17  Retreez Funny Mug - Give Me All The Data Data ...  15.55  2023-11-21\n",
      "18  Retreez Funny Mug - Give Me All The Data Data ...  15.55  2023-11-21\n",
      "19  Retreez Funny Mug - Give Me All The Data Data ...  15.55  2023-11-21\n",
      "20  Retreez Funny Mug - Give Me All The Data Data ...  15.55  2023-11-21\n",
      "21  Retreez Funny Mug - Give Me All The Data Data ...  15.55  2023-11-21\n",
      "22  Retreez Funny Mug - Give Me All The Data Data ...  15.55  2023-11-21\n",
      "23  Retreez Funny Mug - Give Me All The Data Data ...  15.55  2023-11-21\n",
      "24  Retreez Funny Mug - Give Me All The Data Data ...  15.55  2023-11-21\n",
      "25  Retreez Funny Mug - Give Me All The Data Data ...  15.55  2023-11-21\n",
      "26  Retreez Funny Mug - Give Me All The Data Data ...  15.55  2023-11-21\n",
      "27  Retreez Funny Mug - Give Me All The Data Data ...  15.55  2023-11-21\n",
      "28  Retreez Funny Mug - Give Me All The Data Data ...  15.55  2023-11-21\n",
      "29  Retreez Funny Mug - Give Me All The Data Data ...  15.55  2023-11-21\n",
      "30  Retreez Funny Mug - Give Me All The Data Data ...  15.55  2023-11-21\n",
      "31  Retreez Funny Mug - Give Me All The Data Data ...  15.55  2023-11-21\n",
      "32  Retreez Funny Mug - Give Me All The Data Data ...  15.55  2023-11-21\n",
      "33  Retreez Funny Mug - Give Me All The Data Data ...  15.55  2023-11-21\n",
      "34  Retreez Funny Mug - Give Me All The Data Data ...  15.55  2023-11-21\n",
      "35  Retreez Funny Mug - Give Me All The Data Data ...  15.55  2023-11-21\n",
      "36  Retreez Funny Mug - Give Me All The Data Data ...  15.55  2023-11-21\n",
      "37  Retreez Funny Mug - Give Me All The Data Data ...  15.55  2023-11-21\n",
      "38  Retreez Funny Mug - Give Me All The Data Data ...  15.55  2023-11-21\n",
      "39  Retreez Funny Mug - Give Me All The Data Data ...  15.55  2023-11-21\n",
      "40  Retreez Funny Mug - Give Me All The Data Data ...  15.55  2023-11-21\n",
      "41  Retreez Funny Mug - Give Me All The Data Data ...  15.55  2023-11-21\n",
      "42  Retreez Funny Mug - Give Me All The Data Data ...  15.55  2023-11-21\n",
      "43  Retreez Funny Mug - Give Me All The Data Data ...  15.55  2023-11-21\n",
      "44  Retreez Funny Mug - Give Me All The Data Data ...  15.55  2023-11-21\n",
      "45  Retreez Funny Mug - Give Me All The Data Data ...  15.55  2023-11-21\n",
      "46  Retreez Funny Mug - Give Me All The Data Data ...  15.55  2023-11-21\n",
      "47  Retreez Funny Mug - Give Me All The Data Data ...  15.55  2023-11-21\n",
      "48  Retreez Funny Mug - Give Me All The Data Data ...  15.55  2023-11-21\n",
      "49  Retreez Funny Mug - Give Me All The Data Data ...  15.55  2023-11-21\n",
      "50  Retreez Funny Mug - Give Me All The Data Data ...  15.55  2023-11-21\n",
      "51  Retreez Funny Mug - Give Me All The Data Data ...  15.55  2023-11-21\n",
      "52  Retreez Funny Mug - Give Me All The Data Data ...  15.55  2023-11-21\n"
     ]
    }
   ],
   "source": [
    "df = pd.read_csv(r'C:\\Users\\uulm\\Desktop\\Projects\\Python\\AmazonWebScraperDataset.csv')\n",
    "\n",
    "print(df)"
   ]
  },
  {
   "cell_type": "code",
   "execution_count": null,
   "id": "9005b6b5",
   "metadata": {},
   "outputs": [],
   "source": [
    "def(send_mail):\n",
    "    server = smtplib.SMTP_SSL('smtp.gmail.com',465)\n",
    "    server.ehlo()\n",
    "    #server.starttls()\n",
    "    server.ehlo()\n",
    "    server.login('franz.rott.2000@gmail.com','xxxxxxxxxxxxxx')\n",
    "    \n",
    "    subject = \"The Mug you want is below $15! Now is your chance to buy!\"\n",
    "    body = \"Franz, This is the moment we have been waiting for. Now is your chance to pick up the mug of your dreams. Don't mess it up! Link here: https://www.amazon.com/dp/B0BHCLWWMF/ref=sr_1_3?__mk_de_DE=%C3%85M%C3%85%C5%BD%C3%95%C3%91&crid=319FTOYODP3PP&keywords=data%2Btasse&qid=1700593521&sprefix=data%2Btass%2Caps%2C196&sr=8-3&th=1&language=en_US&currency=USD\"\n",
    "   \n",
    "    msg = f\"Subject: {subject}\\n\\n{body}\"\n",
    "    \n",
    "    server.sendmail(\n",
    "        'franz.rott.2000@gmail.com',\n",
    "        msg)\n",
    "     "
   ]
  },
  {
   "cell_type": "code",
   "execution_count": null,
   "id": "055cb522",
   "metadata": {},
   "outputs": [],
   "source": []
  }
 ],
 "metadata": {
  "kernelspec": {
   "display_name": "Python 3 (ipykernel)",
   "language": "python",
   "name": "python3"
  },
  "language_info": {
   "codemirror_mode": {
    "name": "ipython",
    "version": 3
   },
   "file_extension": ".py",
   "mimetype": "text/x-python",
   "name": "python",
   "nbconvert_exporter": "python",
   "pygments_lexer": "ipython3",
   "version": "3.11.5"
  }
 },
 "nbformat": 4,
 "nbformat_minor": 5
}
